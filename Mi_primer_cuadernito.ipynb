{
  "nbformat": 4,
  "nbformat_minor": 0,
  "metadata": {
    "colab": {
      "name": "Mi primer cuadernito.ipynb",
      "provenance": []
    },
    "kernelspec": {
      "name": "python3",
      "display_name": "Python 3"
    }
  },
  "cells": [
    {
      "cell_type": "code",
      "metadata": {
        "id": "yu92gFX5cNpR"
      },
      "source": [
        ""
      ],
      "execution_count": null,
      "outputs": []
    },
    {
      "cell_type": "markdown",
      "metadata": {
        "id": "iApM_sW8dNA9"
      },
      "source": [
        "# Ponga aquí el título :v\r\n",
        "\r\n"
      ]
    },
    {
      "cell_type": "code",
      "metadata": {
        "id": "x5MHXP16eGhk"
      },
      "source": [
        ""
      ],
      "execution_count": null,
      "outputs": []
    },
    {
      "cell_type": "markdown",
      "metadata": {
        "id": "jJQU0mpnj4SD"
      },
      "source": [
        "## Capítulo 1 (subtítuo)\r\n",
        "\r\n",
        "Probando el cuerpo del texto\r\n",
        "En notebook se pueden poner links: [Nuevas rutas transmilenio](https://www.skyscrapercity.com/threads/bogot%C3%81-transmilenio.935364/page-2537#post-172294439)\r\n",
        "\r\n",
        "Lo mismo con imágenes ![Nuevo servicio zonal](https://i.postimg.cc/t4GHtHkx/Ajuste-2021-03-Marzo-08-Servicio-Urbano-F407.jpg)"
      ]
    },
    {
      "cell_type": "markdown",
      "metadata": {
        "id": "1Yxh3OVxlYRp"
      },
      "source": [
        "*Cursiva*\r\n",
        "\r\n",
        "**negrita**\r\n",
        "\r\n",
        "***Negrita cursiva***\r\n",
        "\r\n",
        "> Texto indentado\r\n",
        "\r\n"
      ]
    },
    {
      "cell_type": "code",
      "metadata": {
        "id": "-RpoAAWnj5uE"
      },
      "source": [
        ""
      ],
      "execution_count": null,
      "outputs": []
    },
    {
      "cell_type": "markdown",
      "metadata": {
        "id": "Jz_YR_bWlpM4"
      },
      "source": [
        "# Lenguaje LaTeX\r\n",
        "\r\n",
        "El de los textos bonitos:\r\n",
        "\r\n",
        "Para poner ecuaciones \"bonitas\":\r\n",
        "\r\n",
        "$ 1+1=2 $\r\n",
        "$$ y=x^2 $$"
      ]
    },
    {
      "cell_type": "code",
      "metadata": {
        "colab": {
          "base_uri": "https://localhost:8080/"
        },
        "id": "IyW8LhABmXPe",
        "outputId": "ad9e7ff6-903d-47a0-e7dd-d670f7f32259"
      },
      "source": [
        "print(\"Hola mundo\")"
      ],
      "execution_count": 2,
      "outputs": [
        {
          "output_type": "stream",
          "text": [
            "Hola mundo\n"
          ],
          "name": "stdout"
        }
      ]
    },
    {
      "cell_type": "code",
      "metadata": {
        "id": "hwp3IFcon75e"
      },
      "source": [
        ""
      ],
      "execution_count": null,
      "outputs": []
    }
  ]
}